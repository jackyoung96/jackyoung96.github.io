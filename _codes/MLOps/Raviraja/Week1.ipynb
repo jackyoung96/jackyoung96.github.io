{
 "cells": [
  {
   "cell_type": "code",
   "execution_count": 1,
   "metadata": {},
   "outputs": [
    {
     "name": "stderr",
     "output_type": "stream",
     "text": [
      "/home/jaekyungcho/anaconda3/envs/mlops/lib/python3.8/site-packages/tqdm/auto.py:22: TqdmWarning: IProgress not found. Please update jupyter and ipywidgets. See https://ipywidgets.readthedocs.io/en/stable/user_install.html\n",
      "  from .autonotebook import tqdm as notebook_tqdm\n"
     ]
    }
   ],
   "source": [
    "# !python -m pip install pytorch_lightning torch transformers datasets sklearn torchmetrics wandb matplotlib\n",
    "import torch\n",
    "from torch import nn\n",
    "from torch.nn import functional as F\n",
    "from transformers import AutoTokenizer, AutoModel\n",
    "import pytorch_lightning as pl\n",
    "from pytorch_lightning.callbacks import Callback, ModelCheckpoint, EarlyStopping\n",
    "from pytorch_lightning.loggers.wandb import WandbLogger\n",
    "import torchmetrics\n",
    "from torchmetrics import ConfusionMatrix\n",
    "from sklearn.metrics import confusion_matrix, accuracy_score\n",
    "\n",
    "from datasets import load_dataset\n",
    "import wandb\n",
    "import pandas as pd\n",
    "import numpy as np\n",
    "import seaborn as sns\n",
    "import matplotlib.pyplot as plt"
   ]
  },
  {
   "cell_type": "code",
   "execution_count": 2,
   "metadata": {},
   "outputs": [],
   "source": [
    "class DataModule(pl.LightningDataModule):\n",
    "    def __init__(self, model_name=\"google/bert_uncased_L-2_H-128_A-2\", batch_size=32):\n",
    "        super().__init__()\n",
    "\n",
    "        self.batch_size = batch_size\n",
    "        self.tokenizer = AutoTokenizer.from_pretrained(model_name) # Transformer (BERT) model\n",
    "\n",
    "    def prepare_data(self):\n",
    "        cola_dataset = load_dataset(\"glue\", \"cola\")\n",
    "        self.train_data = cola_dataset[\"train\"]\n",
    "        self.val_data = cola_dataset[\"validation\"]\n",
    "\n",
    "    def tokenize_data(self, example):\n",
    "        # processing the data\n",
    "        return self.tokenizer(\n",
    "            example[\"sentence\"],\n",
    "            truncation=True,\n",
    "            padding=\"max_length\",\n",
    "            max_length=256,\n",
    "        )\n",
    "\n",
    "    def setup(self, stage=None):\n",
    "        if stage == \"fit\" or stage is None:\n",
    "            self.train_data = self.train_data.map(self.tokenize_data, batched=True)\n",
    "            self.train_data.set_format(\n",
    "                type=\"torch\", columns=[\"input_ids\", \"attention_mask\", \"label\"]\n",
    "            )\n",
    "\n",
    "            self.val_data = self.val_data.map(self.tokenize_data, batched=True)\n",
    "            self.val_data.set_format(\n",
    "                type=\"torch\", columns=[\"input_ids\", \"attention_mask\", \"label\"],\n",
    "                output_all_columns=True,\n",
    "            )\n",
    "\n",
    "    def train_dataloader(self):\n",
    "        return torch.utils.data.DataLoader(\n",
    "            self.train_data, batch_size=self.batch_size, shuffle=True\n",
    "        )\n",
    "\n",
    "    def val_dataloader(self):\n",
    "        return torch.utils.data.DataLoader(\n",
    "            self.val_data, batch_size=self.batch_size, shuffle=False\n",
    "        )"
   ]
  },
  {
   "cell_type": "code",
   "execution_count": 6,
   "metadata": {},
   "outputs": [],
   "source": [
    "class SamplesVisualisationLogger(pl.Callback):\n",
    "    def __init__(self, datamodule):\n",
    "        super().__init__()\n",
    "        self.datamodule = datamodule\n",
    "\n",
    "    def on_validation_end(self, trainer, pl_module):\n",
    "        # can be done on complete dataset also\n",
    "        val_batch = next(iter(trainer.datamodule.val_dataloader()))\n",
    "        sentences = val_batch[\"sentence\"]\n",
    "\n",
    "        # get the predictions\n",
    "        outputs = pl_module(val_batch[\"input_ids\"].to(pl_module.device), val_batch[\"attention_mask\"].to(pl_module.device))\n",
    "        preds = torch.argmax(outputs, 1)\n",
    "        labels = val_batch[\"label\"]\n",
    "\n",
    "        # predicted and labelled data\n",
    "        df = pd.DataFrame(\n",
    "            {\"Sentence\": sentences, \"Label\": labels.numpy(), \"Predicted\": preds.detach().cpu().numpy()}\n",
    "        )\n",
    "\n",
    "        # wrongly predicted data\n",
    "        wrong_df = df[df[\"Label\"] != df[\"Predicted\"]]\n",
    "\n",
    "        # Logging wrongly predicted dataframe as a table\n",
    "        trainer.logger.experiment.log(\n",
    "            {\n",
    "                \"examples\": wandb.Table(dataframe=wrong_df, allow_mixed_types=True),\n",
    "                \"global_step\": trainer.global_step,\n",
    "            }\n",
    "        )"
   ]
  },
  {
   "cell_type": "code",
   "execution_count": 4,
   "metadata": {},
   "outputs": [],
   "source": [
    "class ColaModel(pl.LightningModule):\n",
    "    def __init__(self, model_name=\"google/bert_uncased_L-2_H-128_A-2\", lr=1e-2):\n",
    "        super(ColaModel, self).__init__()\n",
    "        self.save_hyperparameters()\n",
    "\n",
    "        self.bert = AutoModel.from_pretrained(model_name)\n",
    "        self.W = nn.Linear(self.bert.config.hidden_size, 2)\n",
    "        self.num_classes = 2\n",
    "\n",
    "        self.train_accuracy_metric = torchmetrics.Accuracy()\n",
    "        self.val_accuracy_metric = torchmetrics.Accuracy()\n",
    "\n",
    "    def forward(self, input_ids, attention_mask):\n",
    "        outputs = self.bert(input_ids=input_ids, attention_mask=attention_mask)\n",
    "\n",
    "        h_cls = outputs.last_hidden_state[:, 0]\n",
    "        logits = self.W(h_cls)\n",
    "        return logits\n",
    "\n",
    "    def training_step(self, batch, batch_idx):\n",
    "        logits = self.forward(batch[\"input_ids\"], batch[\"attention_mask\"])\n",
    "        loss = F.cross_entropy(logits, batch[\"label\"])\n",
    "\n",
    "        preds = torch.argmax(logits, 1)\n",
    "        train_acc = self.train_accuracy_metric(preds, batch[\"label\"])\n",
    "        self.log(\"train/loss\", loss.detach().cpu(), prog_bar=True, on_epoch=True)\n",
    "        self.log(\"train/accuracy\", train_acc.detach().cpu(), prog_bar=True, on_epoch=True)\n",
    "        return loss\n",
    "\n",
    "    def validation_step(self, batch, batch_idx):\n",
    "        logits = self.forward(batch[\"input_ids\"], batch[\"attention_mask\"])\n",
    "        loss = F.cross_entropy(logits, batch[\"label\"])\n",
    "        _, preds = torch.max(logits, dim=1)\n",
    "        val_acc = self.val_accuracy_metric(preds, batch[\"label\"])\n",
    "        self.log(\"val/loss\", loss.detach().cpu(), prog_bar=True, on_epoch=True)\n",
    "        self.log(\"val/acc\", val_acc.detach().cpu(), prog_bar=True, on_epoch=True)\n",
    "        return {\"labels\": batch[\"label\"], \"logits\": logits}\n",
    "\n",
    "    def validation_epoch_end(self, outputs):\n",
    "        labels = torch.cat([x[\"labels\"] for x in outputs])\n",
    "        logits = torch.cat([x[\"logits\"] for x in outputs])\n",
    "        preds = torch.argmax(logits, 1)\n",
    "\n",
    "        labels = labels.detach().cpu().numpy()\n",
    "        preds = preds.detach().cpu().numpy()\n",
    "        data = confusion_matrix(labels, preds)\n",
    "        df_cm = pd.DataFrame(data, columns=np.unique(labels), index=np.unique(labels))\n",
    "        df_cm.index.name = \"Actual\"\n",
    "        df_cm.columns.name = \"Predicted\"\n",
    "        plt.figure(figsize=(7, 4))\n",
    "        plot = sns.heatmap(\n",
    "            df_cm, cmap=\"Blues\", annot=True, annot_kws={\"size\": 16}\n",
    "        )  # font size\n",
    "        self.logger.experiment.log({\"Confusion Matrix\": wandb.Image(plot)})\n",
    "\n",
    "    def configure_optimizers(self):\n",
    "        return torch.optim.Adam(self.parameters(), lr=self.hparams[\"lr\"])"
   ]
  },
  {
   "cell_type": "code",
   "execution_count": 5,
   "metadata": {},
   "outputs": [],
   "source": [
    "class ColaPredictor:\n",
    "    def __init__(self, model_path):\n",
    "        self.model_path = model_path\n",
    "        # loading the trained model\n",
    "        self.model = ColaModel.load_from_checkpoint(model_path)\n",
    "        # keep the model in eval mode\n",
    "        self.model.eval()\n",
    "        self.model.freeze()\n",
    "        self.processor = DataModule()\n",
    "        self.softmax = torch.nn.Softmax(dim=0)\n",
    "        self.lables = [\"unacceptable\", \"acceptable\"]\n",
    "\n",
    "    def predict(self, text):\n",
    "        # text => run time input\n",
    "        inference_sample = {\"sentence\": text}\n",
    "        # tokenizing the input\n",
    "        processed = self.processor.tokenize_data(inference_sample)\n",
    "        # predictions\n",
    "        logits = self.model(\n",
    "            torch.tensor([processed[\"input_ids\"]]),\n",
    "            torch.tensor([processed[\"attention_mask\"]]),\n",
    "        )\n",
    "        scores = self.softmax(logits[0]).detach().cpu().numpy().tolist()\n",
    "        predictions = []\n",
    "        for score, label in zip(scores, self.lables):\n",
    "            predictions.append({\"label\": label, \"score\": score})\n",
    "        return predictions"
   ]
  },
  {
   "cell_type": "code",
   "execution_count": 7,
   "metadata": {},
   "outputs": [
    {
     "name": "stderr",
     "output_type": "stream",
     "text": [
      "Some weights of the model checkpoint at google/bert_uncased_L-2_H-128_A-2 were not used when initializing BertModel: ['cls.predictions.transform.dense.bias', 'cls.predictions.decoder.bias', 'cls.predictions.bias', 'cls.predictions.transform.dense.weight', 'cls.predictions.decoder.weight', 'cls.predictions.transform.LayerNorm.bias', 'cls.predictions.transform.LayerNorm.weight', 'cls.seq_relationship.weight', 'cls.seq_relationship.bias']\n",
      "- This IS expected if you are initializing BertModel from the checkpoint of a model trained on another task or with another architecture (e.g. initializing a BertForSequenceClassification model from a BertForPreTraining model).\n",
      "- This IS NOT expected if you are initializing BertModel from the checkpoint of a model that you expect to be exactly identical (initializing a BertForSequenceClassification model from a BertForSequenceClassification model).\n",
      "Failed to detect the name of this notebook, you can set it manually with the WANDB_NOTEBOOK_NAME environment variable to enable code saving.\n",
      "\u001b[34m\u001b[1mwandb\u001b[0m: Currently logged in as: \u001b[33mjackyoung96\u001b[0m. Use \u001b[1m`wandb login --relogin`\u001b[0m to force relogin\n"
     ]
    },
    {
     "data": {
      "text/html": [
       "Tracking run with wandb version 0.13.4"
      ],
      "text/plain": [
       "<IPython.core.display.HTML object>"
      ]
     },
     "metadata": {},
     "output_type": "display_data"
    },
    {
     "data": {
      "text/html": [
       "Run data is saved locally in <code>./wandb/run-20221013_201154-xfi0c3xk</code>"
      ],
      "text/plain": [
       "<IPython.core.display.HTML object>"
      ]
     },
     "metadata": {},
     "output_type": "display_data"
    },
    {
     "data": {
      "text/html": [
       "Syncing run <strong><a href=\"https://wandb.ai/jackyoung96/MLOps%20Basics/runs/xfi0c3xk\" target=\"_blank\">restful-river-3</a></strong> to <a href=\"https://wandb.ai/jackyoung96/MLOps%20Basics\" target=\"_blank\">Weights & Biases</a> (<a href=\"https://wandb.me/run\" target=\"_blank\">docs</a>)<br/>"
      ],
      "text/plain": [
       "<IPython.core.display.HTML object>"
      ]
     },
     "metadata": {},
     "output_type": "display_data"
    },
    {
     "name": "stderr",
     "output_type": "stream",
     "text": [
      "GPU available: True (cuda), used: True\n",
      "TPU available: False, using: 0 TPU cores\n",
      "IPU available: False, using: 0 IPUs\n",
      "HPU available: False, using: 0 HPUs\n",
      "Found cached dataset glue (/home/jaekyungcho/.cache/huggingface/datasets/glue/cola/1.0.0/dacbe3125aa31d7f70367a07a8a9e72a5a0bfeb5fc42e75c9db75b96da6053ad)\n",
      "100%|██████████| 3/3 [00:00<00:00, 760.16it/s]\n",
      "100%|██████████| 9/9 [00:00<00:00,  9.13ba/s]\n",
      "100%|██████████| 2/2 [00:00<00:00, 19.30ba/s]\n",
      "/home/jaekyungcho/anaconda3/envs/mlops/lib/python3.8/site-packages/pytorch_lightning/callbacks/model_checkpoint.py:616: UserWarning: Checkpoint directory /home/jaekyungcho/MLOps/Raviraja/models exists and is not empty.\n",
      "  rank_zero_warn(f\"Checkpoint directory {dirpath} exists and is not empty.\")\n",
      "LOCAL_RANK: 0 - CUDA_VISIBLE_DEVICES: [0,1,2,3]\n",
      "\n",
      "  | Name                  | Type      | Params\n",
      "----------------------------------------------------\n",
      "0 | bert                  | BertModel | 4.4 M \n",
      "1 | W                     | Linear    | 258   \n",
      "2 | train_accuracy_metric | Accuracy  | 0     \n",
      "3 | val_accuracy_metric   | Accuracy  | 0     \n",
      "----------------------------------------------------\n",
      "4.4 M     Trainable params\n",
      "0         Non-trainable params\n",
      "4.4 M     Total params\n",
      "17.545    Total estimated model params size (MB)\n"
     ]
    },
    {
     "name": "stdout",
     "output_type": "stream",
     "text": [
      "huggingface/tokenizers: The current process just got forked, after parallelism has already been used. Disabling parallelism to avoid deadlocks...\n",
      "To disable this warning, you can either:\n",
      "\t- Avoid using `tokenizers` before the fork if possible\n",
      "\t- Explicitly set the environment variable TOKENIZERS_PARALLELISM=(true | false)\n",
      "Sanity Checking DataLoader 0:   0%|          | 0/2 [00:00<?, ?it/s]"
     ]
    },
    {
     "name": "stderr",
     "output_type": "stream",
     "text": [
      "/home/jaekyungcho/anaconda3/envs/mlops/lib/python3.8/site-packages/pytorch_lightning/trainer/connectors/data_connector.py:236: PossibleUserWarning: The dataloader, val_dataloader 0, does not have many workers which may be a bottleneck. Consider increasing the value of the `num_workers` argument` (try 72 which is the number of cpus on this machine) in the `DataLoader` init to improve performance.\n",
      "  rank_zero_warn(\n",
      "/home/jaekyungcho/anaconda3/envs/mlops/lib/python3.8/site-packages/pytorch_lightning/utilities/data.py:98: UserWarning: Trying to infer the `batch_size` from an ambiguous collection. The batch size we found is 32. To avoid any miscalculations, use `self.log(..., batch_size=batch_size)`.\n",
      "  warning_cache.warn(\n"
     ]
    },
    {
     "name": "stdout",
     "output_type": "stream",
     "text": [
      "                                                                           "
     ]
    },
    {
     "name": "stderr",
     "output_type": "stream",
     "text": [
      "/home/jaekyungcho/anaconda3/envs/mlops/lib/python3.8/site-packages/pytorch_lightning/trainer/connectors/data_connector.py:236: PossibleUserWarning: The dataloader, train_dataloader, does not have many workers which may be a bottleneck. Consider increasing the value of the `num_workers` argument` (try 72 which is the number of cpus on this machine) in the `DataLoader` init to improve performance.\n",
      "  rank_zero_warn(\n"
     ]
    },
    {
     "name": "stdout",
     "output_type": "stream",
     "text": [
      "Epoch 0: 100%|██████████| 301/301 [00:09<00:00, 32.86it/s, loss=0.653, v_num=c3xk, train/loss_step=1.030, train/accuracy_step=0.429]"
     ]
    },
    {
     "name": "stderr",
     "output_type": "stream",
     "text": [
      "/home/jaekyungcho/anaconda3/envs/mlops/lib/python3.8/site-packages/pytorch_lightning/utilities/data.py:98: UserWarning: Trying to infer the `batch_size` from an ambiguous collection. The batch size we found is 19. To avoid any miscalculations, use `self.log(..., batch_size=batch_size)`.\n",
      "  warning_cache.warn(\n"
     ]
    },
    {
     "name": "stdout",
     "output_type": "stream",
     "text": [
      "Epoch 0: 100%|██████████| 301/301 [00:09<00:00, 31.43it/s, loss=0.653, v_num=c3xk, train/loss_step=1.030, train/accuracy_step=0.429, val/loss=0.643, val/acc=0.691]"
     ]
    },
    {
     "name": "stderr",
     "output_type": "stream",
     "text": [
      "Metric val/loss improved. New best score: 0.643\n"
     ]
    },
    {
     "name": "stdout",
     "output_type": "stream",
     "text": [
      "Epoch 1: 100%|██████████| 301/301 [00:09<00:00, 31.39it/s, loss=0.621, v_num=c3xk, train/loss_step=0.605, train/accuracy_step=0.714, val/loss=0.619, val/acc=0.691, train/loss_epoch=0.651, train/accuracy_epoch=0.700]"
     ]
    },
    {
     "name": "stderr",
     "output_type": "stream",
     "text": [
      "Metric val/loss improved by 0.023 >= min_delta = 0.0. New best score: 0.619\n"
     ]
    },
    {
     "name": "stdout",
     "output_type": "stream",
     "text": [
      "Epoch 2: 100%|██████████| 301/301 [00:09<00:00, 32.51it/s, loss=0.61, v_num=c3xk, train/loss_step=0.603, train/accuracy_step=0.714, val/loss=0.619, val/acc=0.691, train/loss_epoch=0.609, train/accuracy_epoch=0.704] "
     ]
    },
    {
     "name": "stderr",
     "output_type": "stream",
     "text": [
      "`Trainer.fit` stopped: `max_epochs=3` reached.\n"
     ]
    },
    {
     "name": "stdout",
     "output_type": "stream",
     "text": [
      "Epoch 2: 100%|██████████| 301/301 [00:09<00:00, 32.49it/s, loss=0.61, v_num=c3xk, train/loss_step=0.603, train/accuracy_step=0.714, val/loss=0.619, val/acc=0.691, train/loss_epoch=0.609, train/accuracy_epoch=0.704]\n"
     ]
    },
    {
     "data": {
      "text/html": [
       "Waiting for W&B process to finish... <strong style=\"color:green\">(success).</strong>"
      ],
      "text/plain": [
       "<IPython.core.display.HTML object>"
      ]
     },
     "metadata": {},
     "output_type": "display_data"
    },
    {
     "data": {
      "text/html": [
       "<style>\n",
       "    table.wandb td:nth-child(1) { padding: 0 10px; text-align: left ; width: auto;} td:nth-child(2) {text-align: left ; width: 100%}\n",
       "    .wandb-row { display: flex; flex-direction: row; flex-wrap: wrap; justify-content: flex-start; width: 100% }\n",
       "    .wandb-col { display: flex; flex-direction: column; flex-basis: 100%; flex: 1; padding: 10px; }\n",
       "    </style>\n",
       "<div class=\"wandb-row\"><div class=\"wandb-col\"><h3>Run history:</h3><br/><table class=\"wandb\"><tr><td>epoch</td><td>▁▁▁▁▁▁▁▅▅▅▅▅▅▅████████</td></tr><tr><td>global_step</td><td>▁▃▆█</td></tr><tr><td>train/accuracy_epoch</td><td>▁██</td></tr><tr><td>train/accuracy_step</td><td>▇▄▅▅▄▃█▃█▃▅▇▁▆▇▃</td></tr><tr><td>train/loss_epoch</td><td>█▂▁</td></tr><tr><td>train/loss_step</td><td>▃▇▅▅▇▆▁█▂▇▅▃█▄▃▇</td></tr><tr><td>trainer/global_step</td><td>▁▁▂▂▃▃▃▃▃▃▄▄▅▅▅▆▆▆▆▆▇▇▇█████</td></tr><tr><td>val/acc</td><td>▁▁▁</td></tr><tr><td>val/loss</td><td>█▁▁</td></tr></table><br/></div><div class=\"wandb-col\"><h3>Run summary:</h3><br/><table class=\"wandb\"><tr><td>epoch</td><td>2</td></tr><tr><td>global_step</td><td>804</td></tr><tr><td>train/accuracy_epoch</td><td>0.70436</td></tr><tr><td>train/accuracy_step</td><td>0.5625</td></tr><tr><td>train/loss_epoch</td><td>0.60911</td></tr><tr><td>train/loss_step</td><td>0.73515</td></tr><tr><td>trainer/global_step</td><td>803</td></tr><tr><td>val/acc</td><td>0.69128</td></tr><tr><td>val/loss</td><td>0.61938</td></tr></table><br/></div></div>"
      ],
      "text/plain": [
       "<IPython.core.display.HTML object>"
      ]
     },
     "metadata": {},
     "output_type": "display_data"
    },
    {
     "data": {
      "text/html": [
       "Synced <strong style=\"color:#cdcd00\">restful-river-3</strong>: <a href=\"https://wandb.ai/jackyoung96/MLOps%20Basics/runs/xfi0c3xk\" target=\"_blank\">https://wandb.ai/jackyoung96/MLOps%20Basics/runs/xfi0c3xk</a><br/>Synced 6 W&B file(s), 8 media file(s), 2 artifact file(s) and 0 other file(s)"
      ],
      "text/plain": [
       "<IPython.core.display.HTML object>"
      ]
     },
     "metadata": {},
     "output_type": "display_data"
    },
    {
     "data": {
      "text/html": [
       "Find logs at: <code>./wandb/run-20221013_201154-xfi0c3xk/logs</code>"
      ],
      "text/plain": [
       "<IPython.core.display.HTML object>"
      ]
     },
     "metadata": {},
     "output_type": "display_data"
    },
    {
     "data": {
      "image/png": "[encoded data removed]",
      "text/plain": [
       "<Figure size 700x400 with 2 Axes>"
      ]
     },
     "metadata": {},
     "output_type": "display_data"
    },
    {
     "data": {
      "image/png": "[encoded data removed]",
      "text/plain": [
       "<Figure size 700x400 with 2 Axes>"
      ]
     },
     "metadata": {},
     "output_type": "display_data"
    },
    {
     "data": {
      "image/png": "[encoded data removed]",
      "text/plain": [
       "<Figure size 700x400 with 2 Axes>"
      ]
     },
     "metadata": {},
     "output_type": "display_data"
    },
    {
     "data": {
      "image/png": "[encoded data removed]",
      "text/plain": [
       "<Figure size 700x400 with 2 Axes>"
      ]
     },
     "metadata": {},
     "output_type": "display_data"
    }
   ],
   "source": [
    "cola_data = DataModule()\n",
    "cola_model = ColaModel()\n",
    "\n",
    "checkpoint_callbacks = [\n",
    "    ModelCheckpoint(dirpath=\"./models\", monitor=\"val/loss\", mode=\"min\", filename=\"best-checkpoint\"),\n",
    "    EarlyStopping(monitor=\"val/loss\", patience=3, verbose=True, mode=\"min\"),\n",
    "    SamplesVisualisationLogger(cola_data) # 요놈이 문제\n",
    "]\n",
    "\n",
    "wandb_logger = WandbLogger(project=\"MLOps Basics\")\n",
    "\n",
    "trainer = pl.Trainer(\n",
    "    accelerator='gpu',\n",
    "    devices=1,\n",
    "    max_epochs=3,\n",
    "    fast_dev_run=False, # True: one batch training one validation -> for debugging\n",
    "    logger=wandb_logger, # directory: logs/cola\n",
    "    # logger = pl.loggers.WandbLogger(name='cola',project='pytorchlightning')\n",
    "    callbacks=checkpoint_callbacks,\n",
    ")\n",
    "trainer.fit(cola_model, cola_data)\n",
    "\n",
    "wandb.finish()"
   ]
  },
  {
   "cell_type": "code",
   "execution_count": null,
   "metadata": {},
   "outputs": [],
   "source": []
  }
 ],
 "metadata": {
  "kernelspec": {
   "display_name": "Python 3.8.13 ('mlops')",
   "language": "python",
   "name": "python3"
  },
  "language_info": {
   "codemirror_mode": {
    "name": "ipython",
    "version": 3
   },
   "file_extension": ".py",
   "mimetype": "text/x-python",
   "name": "python",
   "nbconvert_exporter": "python",
   "pygments_lexer": "ipython3",
   "version": "3.8.13"
  },
  "orig_nbformat": 4,
  "vscode": {
   "interpreter": {
    "hash": "4003a536328e81fd4530ca84ec06d4fa87c59e1aebe2307b6b4e208c10633ca4"
   }
  }
 },
 "nbformat": 4,
 "nbformat_minor": 2
}
